{
 "cells": [
  {
   "cell_type": "markdown",
   "metadata": {},
   "source": [
    "#  NLP-lab :  Word embeddings\n",
    "\n",
    "In this series of exercises, we will explore three word embeddings:\n",
    "\n",
    "* [Collobert & Weston](http://www.jmlr.org/papers/volume12/collobert11a/collobert11a.pdf) https://ronan.collobert.com/senna/\n",
    "* [Word2Vec](https://arxiv.org/abs/1301.3781)\n",
    "* [BERT](https://huggingface.co/bert-base-uncased) \n",
    "\n",
    "\n",
    "In the code already provided, add your code to the place indicated by `YOUR CODE HERE`.\n",
    "\n",
    "**Important** : do NOT commit the data and embedding files in your repository git : it is a waste of resources and it takes more time to clone.\n",
    "> Use https://docs.github.com/en/get-started/getting-started-with-git/ignoring-files\n"
   ]
  },
  {
   "cell_type": "code",
   "execution_count": 1,
   "metadata": {},
   "outputs": [],
   "source": [
    "# basic imports\n",
    "import os\n",
    "import matplotlib.pyplot as plt\n",
    "# display matplotlib graphics in notebook\n",
    "%matplotlib inline \n",
    "import seaborn as sns\n",
    "\n",
    "# disable warnings for libraries\n",
    "import warnings\n",
    "warnings.filterwarnings(\"ignore\")\n",
    "\n",
    "# configure logger\n",
    "import logging\n",
    "logging.basicConfig(format='%(asctime)s %(levelname)s:%(message)s', level=logging.INFO, datefmt='%I:%M:%S')\n",
    "logger = logging.getLogger(__name__)\n"
   ]
  },
  {
   "cell_type": "markdown",
   "metadata": {},
   "source": [
    "###  Embeddings exploration with Collobert's embeddings\n",
    "\n",
    "Upload the files containing the embeddings to `data`:\n",
    "* Collobert (size 50): [collobert_embeddings.txt.zip](https://storage.teklia.com/shared/deepnlp-labs/collobert_embeddings.txt.zip) which contains the embedding vectors and [collobert_words.lst](https://storage.teklia.com/shared/deepnlp-labs/collobert_words.lst) which contains the associated words;\n",
    "\n",
    "You need to unzip the files to load them.\n",
    "\n",
    "Feel free to open the files to see what they contain (it's sometimes surprising).\n",
    "\n",
    "#### Question: \n",
    ">* Add the files to your .gitignore\n",
    ">* Give the size in Mb of the embeddings files before unzipping.\n",
    ">* By exploring the content of the embedding files, give the number of words for which these files provide embeddings.\n",
    "\n"
   ]
  },
  {
   "cell_type": "markdown",
   "metadata": {},
   "source": [
    "### List of closest words\n",
    "\n",
    "The aim of this exercise is to list the closest words to a given word for the Collobert embedding. First, we'll load the vectors of the Collobert embedding into a numpy array and the associated words into a python list. Then we'll use the [scipy KDTree](https://docs.scipy.org/doc/scipy/reference/generated/scipy.spatial.KDTree.html) data structure to quickly search for the vectors closest to a series of words.\n",
    "\n",
    "\n",
    "#### Question: \n",
    ">* load embedding vectors from the file `data/collobert_embeddings.txt` using the numpy function [genfromtxt](https://numpy.org/doc/stable/reference/generated/numpy.genfromtxt.html)\n",
    ">* load the words associated with the vectors from the `data/collobert_words.lst` file into a python list (using `open()` and `readlines()`)\n",
    ">* check that the sizes are correct\n"
   ]
  },
  {
   "cell_type": "code",
   "execution_count": 2,
   "metadata": {},
   "outputs": [
    {
     "name": "stdout",
     "output_type": "stream",
     "text": [
      "Number of vectors: 130000\n",
      "Number of words: 130000\n"
     ]
    }
   ],
   "source": [
    "import numpy as np\n",
    "\n",
    "# Load Collobert embedding vectors\n",
    "vectors = np.genfromtxt('data/collobert_embeddings.txt')\n",
    "\n",
    "# Load associated words\n",
    "with open('data/collobert_words.lst') as f:\n",
    "    collobert_words = [line.strip() for line in f.readlines()]\n",
    "\n",
    "# Verify sizes match\n",
    "print(f\"Number of vectors: {vectors.shape[0]}\")\n",
    "print(f\"Number of words: {len(collobert_words)}\")"
   ]
  },
  {
   "cell_type": "markdown",
   "metadata": {},
   "source": [
    "KD trees are a very efficient data structure for storing large sets of points in a multi-dimensional space and performing very efficient nearest-neighbour searches. \n",
    "\n",
    "#### Question \n",
    "> * Initialise the [KDTree](https://docs.scipy.org/doc/scipy/reference/generated/scipy.spatial.KDTree.html) structure with Collobert's embedding vectors.\n",
    "> * Using the [tree.query](https://docs.scipy.org/doc/scipy/reference/generated/scipy.spatial.KDTree.query.html#scipy.spatial.KDTree.query) function, display the 5 nearest words for the following words: ‘mother’, ‘computer’, ‘dentist’, ‘war’, ‘president’, ‘secretary’, ‘nurse’.  *Hint: you can use the function `collobert_words.index(w)` to obtain the index of a word in the list of words*.\n",
    "> * Create a `words_plus_neighbors` list containing the words and all their neighbours (for the next question)"
   ]
  },
  {
   "cell_type": "code",
   "execution_count": 3,
   "metadata": {},
   "outputs": [
    {
     "name": "stdout",
     "output_type": "stream",
     "text": [
      "\n",
      "Nearest neighbors for 'mother':\n",
      "  daughter (distance: 3.581)\n",
      "  wife (distance: 3.617)\n",
      "  father (distance: 3.695)\n",
      "  husband (distance: 4.159)\n",
      "  son (distance: 4.647)\n",
      "\n",
      "Nearest neighbors for 'computer':\n",
      "  laptop (distance: 5.236)\n",
      "  multimedia (distance: 5.265)\n",
      "  desktop (distance: 5.368)\n",
      "  software (distance: 5.511)\n",
      "  wiki (distance: 5.561)\n",
      "\n",
      "Nearest neighbors for 'dentist':\n",
      "  pharmacist (distance: 4.129)\n",
      "  midwife (distance: 4.139)\n",
      "  physician (distance: 4.154)\n",
      "  housekeeper (distance: 4.263)\n",
      "  veterinarian (distance: 4.303)\n",
      "\n",
      "Nearest neighbors for 'war':\n",
      "  revolution (distance: 5.549)\n",
      "  death (distance: 5.944)\n",
      "  court (distance: 5.950)\n",
      "  independence (distance: 6.030)\n",
      "  history (distance: 6.130)\n",
      "\n",
      "Nearest neighbors for 'president':\n",
      "  governor (distance: 3.912)\n",
      "  chairman (distance: 4.447)\n",
      "  mayor (distance: 5.017)\n",
      "  secretary (distance: 5.118)\n",
      "  senator (distance: 5.125)\n",
      "\n",
      "Nearest neighbors for 'secretary':\n",
      "  minister (distance: 3.814)\n",
      "  treasurer (distance: 4.301)\n",
      "  chairman (distance: 4.349)\n",
      "  commissioner (distance: 4.665)\n",
      "  undersecretary (distance: 4.841)\n",
      "\n",
      "Nearest neighbors for 'nurse':\n",
      "  physician (distance: 4.807)\n",
      "  veterinarian (distance: 4.846)\n",
      "  dentist (distance: 4.876)\n",
      "  surgeon (distance: 4.957)\n",
      "  midwife (distance: 5.043)\n"
     ]
    }
   ],
   "source": [
    "from scipy import spatial\n",
    "\n",
    "# Initialize KDTree with Collobert embeddings\n",
    "tree = spatial.KDTree(vectors)\n",
    "\n",
    "# Words to analyze\n",
    "target_words = ['mother', 'computer', 'dentist', 'war', 'president', 'secretary', 'nurse']\n",
    "words_plus_neighbors = []\n",
    "\n",
    "# Find nearest neighbors for each target word\n",
    "for word in target_words:\n",
    "    try:\n",
    "        word_idx = collobert_words.index(word)\n",
    "        # Find 5 nearest neighbors (k=6 because it includes the word itself)\n",
    "        distances, indices = tree.query(vectors[word_idx], k=6)\n",
    "        \n",
    "        # Get neighbor words\n",
    "        neighbors = [collobert_words[idx] for idx in indices]\n",
    "        print(f\"\\nNearest neighbors for '{word}':\")\n",
    "        for d, n in zip(distances[1:], neighbors[1:]):  # Skip first (self)\n",
    "            print(f\"  {n} (distance: {d:.3f})\")\n",
    "        \n",
    "        # Add word and its neighbors to the list\n",
    "        words_plus_neighbors.extend(neighbors)\n",
    "    except ValueError:\n",
    "        print(f\"Word '{word}' not found in vocabulary\")\n",
    "\n",
    "# Remove duplicates while preserving order\n",
    "words_plus_neighbors = list(dict.fromkeys(words_plus_neighbors))\n",
    " "
   ]
  },
  {
   "cell_type": "markdown",
   "metadata": {},
   "source": [
    "### Visualisation with T-SNE\n",
    "\n",
    "Embeddings are vectors with several hundred dimensions. It is therefore not possible to display them in their original space. However, it is possible to apply dimension reduction algorithms to display them in 2 or 3 dimensions. One of the dimension reduction algorithms allowing 2D visualisation is [tSNE](https://en.wikipedia.org/wiki/T-distributed_stochastic_neighbor_embedding). \n",
    "\n",
    "#### Question\n",
    "> * Create a `word_vectors` object of type `np.array` from a list containing all the embeddings of the words in the `words_plus_neighbors` list.\n",
    "> * Create a tSNE object from the `from sklearn.manifold import TSNE` library with the parameters `random_state=0`, `n_iter=2000` and `perplexity=15.0` for a 2-dimensional view.\n",
    "> * Calculate *T* the tSNE transformation of the `word_vectors` by applying function `.fit_transform(word_vectors)` to the tSNE object. This function estimates the parameters of the tSNE transformation and returns the reduced-dimension representation of the vectors used for estimation.\n",
    "> * Use the `scatterplot` function from [seaborn](https://seaborn.pydata.org/generated/seaborn.scatterplot.html) to represent points in 2 dimensions and add word labels using the `plt.annotate` function."
   ]
  },
  {
   "cell_type": "code",
   "execution_count": 4,
   "metadata": {},
   "outputs": [
    {
     "data": {
      "image/png": "[encoded data removed]",
      "text/plain": [
       "<Figure size 640x480 with 1 Axes>"
      ]
     },
     "metadata": {},
     "output_type": "display_data"
    }
   ],
   "source": [
    "from sklearn.manifold import TSNE\n",
    "# graphics\n",
    "import matplotlib.pyplot as plt\n",
    "# display matplotlib graphics in notebook\n",
    "%matplotlib inline \n",
    "import seaborn as sns\n",
    "\n",
    "# retrieve the word representation\n",
    "word_vectors = np.array([vectors[collobert_words.index(w)] for w in words_plus_neighbors])\n",
    "\n",
    "# create the tSNE transform\n",
    "tsne = TSNE(random_state=0, n_iter=2000, perplexity=15.0, n_components=2)\n",
    "\n",
    "# fit and transform the word vectors, store in T\n",
    "T = tsne.fit_transform(word_vectors)\n",
    "\n",
    "# plot\n",
    "fig = plt.figure()\n",
    "fig.patch.set_facecolor('#f9f9f9')\n",
    "\n",
    "sns.set(rc={'figure.figsize':(14, 8)})\n",
    "sns.set(font_scale=1)\n",
    "\n",
    "sns.scatterplot(x=T[:, 0], y=T[:, 1])\n",
    "\n",
    "for label, x, y in zip(words_plus_neighbors, T[:, 0], T[:, 1]):\n",
    "    plt.annotate(label, xy=(x+1, y+1), xytext=(0, 0), textcoords='offset points')\n"
   ]
  },
  {
   "cell_type": "markdown",
   "metadata": {},
   "source": [
    "### Semantic arithmetic with Word2Vec\n",
    "\n",
    "One of the most original properties of Word2Vec embeddings is that the semantic relationships between vectors can be modelled by arithmetic operations. Given vectors representing the words `king`, `man` and `woman`, it is possible to compute the vector `v` as :  \n",
    "\n",
    "`v = vector(king)-vector(man)+vector(woman)`\n",
    "\n",
    "This operation corresponds to the following semantic relationship: *The king is to the man what the queen is to the woman*, which translates into the following arithmetic: *the concept of king, minus the concept of man plus the concept of woman gives the concept of queen*.\n",
    "\n",
    "In fact, if we look in the embedding for the word whose closest vector is `v`, we find `reine`.\n",
    "\n",
    "\n",
    "We will use a Word2Vec model pre-trained on the French Wac corpus.  This model has been trained on a corpus of 1 billion French words. \n",
    "\n",
    "This embedding is available in 2 formats:\n",
    "- a text format for easy exploration of the model :\n",
    "    - frWac_non_lem_no_postag_no_phrase_200_cbow_cut100.txt](https://storage.teklia.com/shared/deepnlp-labs/frWac_non_lem_no_postag_no_phrase_200_cbow_cut100.txt)\n",
    "- a binary format that can be loaded using the Gensim library: \n",
    "    - [enWac_non_lem_no_postag_no_phrase_200_cbow_cut100.bin](https://storage.teklia.com/shared/deepnlp-labs/frWac_non_lem_no_postag_no_phrase_200_cbow_cut100.bin)\n",
    "\n",
    "Download the text file onto your machine to analyse it.\n",
    "\n",
    "#### Question: \n",
    ">* Add the file to your .gitignore\n",
    ">* Give the size in Mb of the embedding files\n",
    ">* By exploring the contents of the embedding file in text format, give the number of words for which this model provides embeddings and the size of the embedding for each word.\n",
    "\n"
   ]
  },
  {
   "cell_type": "markdown",
   "metadata": {},
   "source": [
    "YOUR ANSWER HERE"
   ]
  },
  {
   "cell_type": "markdown",
   "metadata": {},
   "source": [
    "#### Word similarity\n",
    "\n",
    "We are now going to use the [Gensim] library (https://radimrehurek.com/gensim/) to load the Word2Vec model and use it. \n",
    "\n",
    "#### Question: \n",
    ">* Modify the following code to load the Word2Vec template file in binary format using [load_word2vec](https://radimrehurek.com/gensim/models/keyedvectors.html#how-to-obtain-word-vectors)\n",
    ">* Choose a couple of words and find the closest words according to the model using [most_similar](https://radimrehurek.com/gensim/models/keyedvectors.html#gensim.models.keyedvectors.KeyedVectors.most_similar)\n",
    ">* To guess the meaning of the words ‘yokohama’, ‘kanto’ and ‘shamisen’, look for their nearest neighbours. Explain the results.\n"
   ]
  },
  {
   "cell_type": "code",
   "execution_count": 7,
   "metadata": {},
   "outputs": [
    {
     "name": "stderr",
     "output_type": "stream",
     "text": [
      "06:47:02 INFO:loading projection weights from data/frWac_non_lem_no_postag_no_phrase_200_cbow_cut100.bin\n",
      "06:47:03 INFO:KeyedVectors lifecycle event {'msg': 'loaded (155562, 200) matrix of type float32 from data/frWac_non_lem_no_postag_no_phrase_200_cbow_cut100.bin', 'binary': True, 'encoding': 'utf8', 'datetime': '2025-03-09T18:47:03.186130', 'gensim': '4.3.3', 'python': '3.10.12 (main, Feb  4 2025, 14:57:36) [GCC 11.4.0]', 'platform': 'Linux-5.15.146.1-microsoft-standard-WSL2-x86_64-with-glibc2.35', 'event': 'load_word2vec_format'}\n"
     ]
    },
    {
     "name": "stdout",
     "output_type": "stream",
     "text": [
      "\n",
      "Similar words to 'chevalier':\n",
      "[('commandeur', 0.6844523549079895), ('chevaliers', 0.6799763441085815), ('écuyer', 0.6333731412887573), ('grand-croix', 0.621898353099823), ('preux', 0.6011075377464294), ('chevalerie', 0.5404021143913269), ('légion', 0.5335969924926758), ('honneur', 0.4953608810901642), ('yvain', 0.4855087101459503), ('insignes', 0.4742659330368042)]\n",
      "\n",
      "Exploring Japanese terms:\n",
      "Similar words to 'yokohama':\n",
      "[('tokyo', 0.7117858529090881), ('tôkyô', 0.6314416527748108), ('japon', 0.621522068977356), ('nagoya', 0.6198478937149048), ('kyushu', 0.6141085028648376), ('osaka', 0.6123895645141602), ('fukuoka', 0.5612888932228088), ('japonaise', 0.5507326126098633), ('sendai', 0.5496150255203247), ('japonais', 0.5391373038291931)]\n",
      "\n",
      "Similar words to 'kanto':\n",
      "[('pokémon', 0.5426285266876221), ('mewtwo', 0.5076008439064026), ('pokémons', 0.4970632791519165), ('saito', 0.4549728333950043), ('pokédex', 0.448673278093338), ('yusuke', 0.44163110852241516), ('osaka', 0.4372847080230713), ('shôgun', 0.4324425756931305), ('jin', 0.42604973912239075), ('honshu', 0.42374101281166077)]\n"
     ]
    }
   ],
   "source": [
    "from gensim.models import KeyedVectors\n",
    "\n",
    "# Load Word2Vec model\n",
    "embedding_file = \"data/frWac_non_lem_no_postag_no_phrase_200_cbow_cut100.bin\"\n",
    "model = KeyedVectors.load_word2vec_format(embedding_file, binary=True, unicode_errors=\"ignore\")\n",
    "\n",
    "# Try some word similarities\n",
    "print(\"\\nSimilar words to 'chevalier':\")\n",
    "print(model.most_similar(\"chevalier\"))\n",
    "\n",
    "print(\"\\nExploring Japanese terms:\")\n",
    "print(\"Similar words to 'yokohama':\")\n",
    "print(model.most_similar(\"yokohama\"))\n",
    "print(\"\\nSimilar words to 'kanto':\")\n",
    "print(model.most_similar(\"kanto\"))"
   ]
  },
  {
   "cell_type": "markdown",
   "metadata": {},
   "source": [
    "#### Semantic arithmetic\n",
    "\n",
    "One of the most original properties of Word2Vec embeddings is that the semantic relationships between vectors can be modelled by arithmetic operations. Given vectors representing the words `king`, `man` and `woman`, it is possible to compute the vector `v` as :  \n",
    "\n",
    "`v = vector(king)-vector(man)+vector(woman)`\n",
    "\n",
    "This operation corresponds to the following semantic relationship: *The king is to the man what the queen is to the woman*, which translates into the following arithmetic: *the concept of king, minus the concept of man plus the concept of woman gives the concept of queen*.\n",
    "\n",
    "In fact, if we look in the embedding for the word whose closest vector is `v`, we find `reine`.\n",
    "\n",
    "#### Question: \n",
    ">* using the function [most_similar](https://radimrehurek.com/gensim/models/keyedvectors.html#gensim.models.keyedvectors.KeyedVectors.most_similar) specifying the arguments `positive` for the vectors to be added and `negative` for the vectors to be subtracted, check the relationship *the concept of king, minus the concept of man plus the concept of woman gives the concept of queen*.\n",
    ">* Using the same method, find XXX in the following semantic relations\n",
    ">   * Paris is to France what XXX is to Japan.\n",
    ">   * Chevalier is to France what XXX is to Japan."
   ]
  },
  {
   "cell_type": "code",
   "execution_count": 8,
   "metadata": {},
   "outputs": [
    {
     "name": "stdout",
     "output_type": "stream",
     "text": [
      "\n",
      "Testing king - man + woman relationship:\n",
      "[('reine', 0.6945513486862183), ('duchesse', 0.6247551441192627), ('épouse', 0.6083102822303772), ('régente', 0.5878491997718811), ('duc', 0.5723880529403687), ('épousa', 0.5690740346908569), ('princesse', 0.5680873394012451), ('comtesse', 0.5670515894889832), ('isabeau', 0.5510526299476624), ('belle-mère', 0.523912250995636)]\n",
      "\n",
      "Paris is to France what Tokyo is to Japan:\n",
      "[('japon', 0.6199511885643005), ('nippone', 0.4963170886039734), ('pays', 0.48658233880996704), ('japonaise', 0.46542441844940186), ('japonais', 0.4502496123313904), ('osaka', 0.44616055488586426), ('corée', 0.4455697238445282), ('nippon', 0.43595659732818604), ('allemagne', 0.4328420162200928), ('yokohama', 0.4320586025714874)]\n",
      "\n",
      "Chevalier is to France what Samurai is to Japan:\n",
      "[('pays', 0.3883005380630493), ('japon', 0.387758731842041), ('hexagone', 0.38224220275878906), ('nippones', 0.34539133310317993), ('europe', 0.34257304668426514), ('expatriés', 0.3394710421562195), ('hexagonale', 0.3393837511539459), ('néerlandophones', 0.3363124430179596), ('toray', 0.33177855610847473), ('français', 0.3316882252693176)]\n"
     ]
    }
   ],
   "source": [
    "# Testing king - man + woman relationship\n",
    "print(\"\\nTesting king - man + woman relationship:\")\n",
    "print(model.most_similar(positive=['roi', 'femme'], negative=['homme']))\n",
    "\n",
    "# Finding city equivalent\n",
    "print(\"\\nParis is to France what Tokyo is to Japan:\")\n",
    "print(model.most_similar(positive=['tokyo', 'france'], negative=['paris']))\n",
    "\n",
    "# Finding warrior equivalent\n",
    "print(\"\\nChevalier is to France what Samurai is to Japan:\")\n",
    "print(model.most_similar(positive=['samurai', 'france'], negative=['chevalier']))"
   ]
  },
  {
   "cell_type": "markdown",
   "metadata": {},
   "source": [
    "## Contextual embeddings with BERT \n",
    "\n",
    "BERT was one of the first freely available Transformer language models, trained on large corpora. Many other models are available on HuggingFace.\n",
    "\n",
    "As BERT is a contextual model, it is necessary to have it predict whole sentences in order to study the word embeddings it produces. In this section, we will compare the embeddings obtained for polysemous words according to the sentence in which they are used.\n",
    "\n",
    "In English, *plant* has two meanings: plant and vegetable. With a non-contextual embedding, such as Glove or Colobert, these two meanings of the word plus are associated with an identical embedding. With BERT, we'll see that the same word can have several embeddings depending on the context.\n",
    "\n",
    "First, load the BERT model and tokenizer from HuggingFace : "
   ]
  },
  {
   "cell_type": "code",
   "execution_count": 9,
   "metadata": {},
   "outputs": [
    {
     "data": {
      "text/plain": [
       "BertModel(\n",
       "  (embeddings): BertEmbeddings(\n",
       "    (word_embeddings): Embedding(30522, 768, padding_idx=0)\n",
       "    (position_embeddings): Embedding(512, 768)\n",
       "    (token_type_embeddings): Embedding(2, 768)\n",
       "    (LayerNorm): LayerNorm((768,), eps=1e-12, elementwise_affine=True)\n",
       "    (dropout): Dropout(p=0.1, inplace=False)\n",
       "  )\n",
       "  (encoder): BertEncoder(\n",
       "    (layer): ModuleList(\n",
       "      (0-11): 12 x BertLayer(\n",
       "        (attention): BertAttention(\n",
       "          (self): BertSdpaSelfAttention(\n",
       "            (query): Linear(in_features=768, out_features=768, bias=True)\n",
       "            (key): Linear(in_features=768, out_features=768, bias=True)\n",
       "            (value): Linear(in_features=768, out_features=768, bias=True)\n",
       "            (dropout): Dropout(p=0.1, inplace=False)\n",
       "          )\n",
       "          (output): BertSelfOutput(\n",
       "            (dense): Linear(in_features=768, out_features=768, bias=True)\n",
       "            (LayerNorm): LayerNorm((768,), eps=1e-12, elementwise_affine=True)\n",
       "            (dropout): Dropout(p=0.1, inplace=False)\n",
       "          )\n",
       "        )\n",
       "        (intermediate): BertIntermediate(\n",
       "          (dense): Linear(in_features=768, out_features=3072, bias=True)\n",
       "          (intermediate_act_fn): GELUActivation()\n",
       "        )\n",
       "        (output): BertOutput(\n",
       "          (dense): Linear(in_features=3072, out_features=768, bias=True)\n",
       "          (LayerNorm): LayerNorm((768,), eps=1e-12, elementwise_affine=True)\n",
       "          (dropout): Dropout(p=0.1, inplace=False)\n",
       "        )\n",
       "      )\n",
       "    )\n",
       "  )\n",
       "  (pooler): BertPooler(\n",
       "    (dense): Linear(in_features=768, out_features=768, bias=True)\n",
       "    (activation): Tanh()\n",
       "  )\n",
       ")"
      ]
     },
     "execution_count": 9,
     "metadata": {},
     "output_type": "execute_result"
    }
   ],
   "source": [
    "import torch\n",
    "from transformers import BertTokenizer, BertModel\n",
    "tokenizer = BertTokenizer.from_pretrained('bert-base-uncased')\n",
    "# Load pre-trained model \n",
    "model = BertModel.from_pretrained('bert-base-uncased',\n",
    "                                  output_hidden_states = True, # to access the hidden states\n",
    "                                  )\n",
    "# set the model to \"evaluation\" mode\n",
    "model.eval()"
   ]
  },
  {
   "cell_type": "markdown",
   "metadata": {},
   "source": [
    "### Tokenizer\n",
    "\n",
    "Language models are trained with a specific breakdown of sentences into tokens. These tokens can be words or parts of words. It is necessary to use the tokenizer corresponding to each model.\n",
    "\n",
    "tokenizer.vocab.keys() gives the list of all the tokens known for the language model. \n",
    "\n",
    "#### Question\n",
    ">* How many different tokens are known to the BERT tokenizer?\n",
    ">* Display a hundred tokens at random. What do you find?"
   ]
  },
  {
   "cell_type": "code",
   "execution_count": 10,
   "metadata": {},
   "outputs": [
    {
     "name": "stdout",
     "output_type": "stream",
     "text": [
      "Number of tokens in BERT vocabulary: 30522\n",
      "\n",
      "Random sample of 100 tokens:\n",
      "aurora communist oppose ##66 clancy inaccurate helmets ##le boiling tel ##ʌ charging ##) treaty hurriedly overs buffy ##そ colchester ##yen allmusic [unused943] reiterated nouvelle shareholder [unused695] ##athan imaging lal sweep discarded supporters ##pani kimball [unused185] assists conversation chances clemson arrive majors ##erry lacking others internship ##break ##inium epidemic ##nda condo instinctively psychotic seemed competent few rn tentative romeo 1916 interfering certification annabelle blessing ##ʾ howl sake 330 quarrel 555 ##ration hammer rhineland ᵖ outburst cocktail teenager atoms ##tang verdict acquire ##unce closely serious fiba minneapolis ##isation caves [unused685] hatch exaggerated 357 minas fatima eki pauline [unused198] bulldog 404 begged supermarkets \n",
      "\n"
     ]
    }
   ],
   "source": [
    "import random\n",
    "# number of token in tokenizer\n",
    "vocab_size = len(tokenizer.vocab)\n",
    "print(f\"Number of tokens in BERT vocabulary: {vocab_size}\")\n",
    "\n",
    "# sample of 100 tokens\n",
    "random_tokens = random.sample(list(tokenizer.vocab.keys()), 100)\n",
    "print(\"\\nRandom sample of 100 tokens:\")\n",
    "for token in random_tokens:\n",
    "    print(token, end=' ')\n",
    "print(\"\\n\")"
   ]
  },
  {
   "cell_type": "markdown",
   "metadata": {},
   "source": [
    "The tokenizer splits sentences and transforms the elements (words or sub-words) into clues. \n",
    "\n",
    "BERT can process several sentences, but you need to tell it how the sentences (segments) have been split, with an index: 0 for the first sentence, 1 for the second. \n",
    "\n",
    "Two specific tokens must also be added: \n",
    "* CLS], a specific token used for sentence classification\n",
    "* SEP], the end of sentence token.\n",
    "\n",
    "#### Question\n",
    ">* Apply the bert_tokenize function to the 3 phases and keep the 3 vectors (index, token, segment).\n",
    ">* Display this information for each of the sentences and check that the word *plant* has the same token index in the two sentences in which it appears."
   ]
  },
  {
   "cell_type": "code",
   "execution_count": 11,
   "metadata": {},
   "outputs": [
    {
     "name": "stdout",
     "output_type": "stream",
     "text": [
      "\n",
      "Sentence 1: The plant has reached its maximal level of production.\n",
      "Tokens: ['[CLS]', 'the', 'plant', 'has', 'reached', 'its', 'maximal', 'level', 'of', 'production', '.', '[SEP]']\n",
      "'plant' found at index: 2\n",
      "\n",
      "Sentence 2: The cars are assembled inside the factory.\n",
      "Tokens: ['[CLS]', 'the', 'cars', 'are', 'assembled', 'inside', 'the', 'factory', '.', '[SEP]']\n",
      "\n",
      "Sentence 3: A plant needs sunlight and water to grow well.\n",
      "Tokens: ['[CLS]', 'a', 'plant', 'needs', 'sunlight', 'and', 'water', 'to', 'grow', 'well', '.', '[SEP]']\n",
      "'plant' found at index: 2\n"
     ]
    }
   ],
   "source": [
    "snt1 = \"The plant has reached its maximal level of production.\"\n",
    "snt2 = \"The cars are assembled inside the factory.\"\n",
    "snt3 = \"A plant needs sunlight and water to grow well.\"\n",
    "\n",
    "\n",
    "def bert_tokenize(snt):\n",
    "    \"\"\" Apply the BERT tokenizer to a list of words representing a sentence\n",
    "        and return 3 lists: \n",
    "        - list of token indx\n",
    "        - list of token for debugging, not used by the BERT model\n",
    "        - list of sentence index\n",
    "        \"\"\"\n",
    "    # Add the special tokens.\n",
    "    tagged_snt = \"[CLS] \" + snt + \" [SEP]\" \n",
    "    # Tokenize\n",
    "    tokenized_snt = tokenizer.tokenize(tagged_snt)\n",
    "    # convert tokens to indices\n",
    "    indexed_snt = tokenizer.convert_tokens_to_ids(tokenized_snt)\n",
    "    # mark the words in sentence.\n",
    "    segments_ids = [1] * len(tokenized_snt)\n",
    "\n",
    "    return (indexed_snt, tokenized_snt, segments_ids)\n",
    "\n",
    "# Process the sentences\n",
    "indices1, tokens1, segments1 = bert_tokenize(snt1)\n",
    "indices2, tokens2, segments2 = bert_tokenize(snt2)\n",
    "indices3, tokens3, segments3 = bert_tokenize(snt3)\n",
    "\n",
    "# Display tokenization results\n",
    "for i, (tokens, sent) in enumerate([(tokens1, snt1), (tokens2, snt2), (tokens3, snt3)], 1):\n",
    "    print(f\"\\nSentence {i}: {sent}\")\n",
    "    print(f\"Tokens: {tokens}\")\n",
    "    if \"plant\" in tokens:\n",
    "        plant_idx = tokens.index(\"plant\")\n",
    "        print(f\"'plant' found at index: {plant_idx}\")\n"
   ]
  },
  {
   "cell_type": "markdown",
   "metadata": {},
   "source": [
    "## Inference\n",
    "\n",
    "To calculate embeddings, we need to make a prediction using the BERT model on a complete sentence. The *predict_hidden* function converts the token and segment index lists into a pytorch tensor and applies the model. \n",
    "\n",
    "The model used is a 12-layer model. We will use the last hidden layer of the model as an embedding to represent the words. Other solutions are possible, such as concatenation or averaging of several layers.\n",
    "\n",
    "\n",
    "#### Question\n",
    ">* Apply the model to each of the 3 sentences and store the resulting embeddings (tensors).\n",
    ">* Display the dimension of the resulting tensors. What is the dimension of the embedding vector for each word?"
   ]
  },
  {
   "cell_type": "code",
   "execution_count": 13,
   "metadata": {},
   "outputs": [],
   "source": [
    "from scipy.spatial.distance import cosine"
   ]
  },
  {
   "cell_type": "code",
   "execution_count": 14,
   "metadata": {},
   "outputs": [
    {
     "name": "stdout",
     "output_type": "stream",
     "text": [
      "\n",
      "Embedding dimensions:\n",
      "Sentence 1: torch.Size([12, 768])\n",
      "Sentence 2: torch.Size([10, 768])\n",
      "Sentence 3: torch.Size([12, 768])\n",
      "\n",
      "Cosine distances:\n",
      "Plant(factory) vs Plant(vegetal): 0.499\n",
      "Plant(factory) vs Factory: 0.312\n",
      "Plant(factory) vs Production: 0.240\n",
      "Plant(vegetal) vs Production: 0.620\n"
     ]
    }
   ],
   "source": [
    "\n",
    "def predict_hidden(indexed_snt, segments_ids):\n",
    "    \"\"\"Apply the BERT model to the input token indices and segment indices\n",
    "        and return the last hidden layer\n",
    "    \"\"\"\n",
    "    with torch.no_grad():\n",
    "        # Convert inputs to PyTorch tensors\n",
    "        tokens_tensor = torch.tensor([indexed_snt])\n",
    "        segments_tensors = torch.tensor([segments_ids])\n",
    "        outputs = model(tokens_tensor, segments_tensors)\n",
    "        hidden_states = outputs[2]\n",
    "        one_hidden_layer = hidden_states[12][0]\n",
    "        \n",
    "    return one_hidden_layer\n",
    "\n",
    "# Get embeddings for each sentence\n",
    "embeddings1 = predict_hidden(indices1, segments1)\n",
    "embeddings2 = predict_hidden(indices2, segments2)\n",
    "embeddings3 = predict_hidden(indices3, segments3)\n",
    "\n",
    "# Display embedding dimensions\n",
    "print(\"\\nEmbedding dimensions:\")\n",
    "print(f\"Sentence 1: {embeddings1.shape}\")\n",
    "print(f\"Sentence 2: {embeddings2.shape}\")\n",
    "print(f\"Sentence 3: {embeddings3.shape}\")\n",
    "\n",
    "# Find token indices for words of interest\n",
    "plant1_idx = tokens1.index(\"plant\")\n",
    "factory_idx = tokens2.index(\"factory\")\n",
    "production_idx = tokens1.index(\"production\")\n",
    "plant3_idx = tokens3.index(\"plant\")\n",
    "\n",
    "# Calculate cosine distances between embeddings\n",
    "print(\"\\nCosine distances:\")\n",
    "print(f\"Plant(factory) vs Plant(vegetal): {cosine(embeddings1[plant1_idx], embeddings3[plant3_idx]):.3f}\")\n",
    "print(f\"Plant(factory) vs Factory: {cosine(embeddings1[plant1_idx], embeddings2[factory_idx]):.3f}\")\n",
    "print(f\"Plant(factory) vs Production: {cosine(embeddings1[plant1_idx], embeddings1[production_idx]):.3f}\")\n",
    "print(f\"Plant(vegetal) vs Production: {cosine(embeddings3[plant3_idx], embeddings1[production_idx]):.3f}\")\n",
    "\n",
    "\n"
   ]
  },
  {
   "cell_type": "markdown",
   "metadata": {},
   "source": [
    "The hidden layer returned by the *predict_hidden* function is a tensor containing a context vector representing each token in the input sentence. We can use this vector to represent the meaning of this word as a function of its context. We're going to compare the representation of the polysemous word *plant* as a function of its context.\n",
    "\n",
    "#### Question\n",
    ">* Using the [cosine distance](https://docs.scipy.org/doc/scipy/reference/generated/scipy.spatial.distance.cosine.html), calculate the following distances:\n",
    "> * distance between *plant* in sentence 1 (plant-factory) and *plant* in sentence 3 (plant-vegetal)\n",
    "> * distance between *plant* in sentence 1 (plant-factory) and *factory* in sentence 2 (plant-vegetal) \n",
    "> * distance between *plant* in sentence 1 (plant-factory) and *production* in sentence 2 \n",
    "> distance between *plant* in sentence 3 (plant-vegetal) and *production* in sentence 2 \n",
    "> How can we interpret these distances?"
   ]
  },
  {
   "cell_type": "code",
   "execution_count": 15,
   "metadata": {},
   "outputs": [
    {
     "name": "stdout",
     "output_type": "stream",
     "text": [
      "\n",
      "Analyzing semantic relationships using cosine distances:\n",
      "\n",
      "1. Distance between 'plant' meanings (industrial vs vegetal): 0.499\n",
      "   - Higher distance indicates different contextual meanings are captured\n",
      "\n",
      "2. Distance between industrial 'plant' and 'factory': 0.312\n",
      "   - Lower distance indicates semantic similarity in industrial context\n",
      "\n",
      "3. Distance between industrial 'plant' and 'production': 0.240\n",
      "   - Shows relationship strength between facility and its function\n",
      "\n",
      "4. Distance between vegetal 'plant' and 'production': 0.620\n",
      "   - Higher distance expected as concepts are less related\n",
      "\n",
      "Interpretation:\n",
      "- These distances demonstrate BERT's ability to generate context-dependent embeddings\n",
      "- The same word 'plant' has different representations based on its usage\n",
      "- Industrial-related terms show closer distances to the industrial meaning of 'plant'\n",
      "- The biological meaning of 'plant' is more distant from industrial terms\n"
     ]
    }
   ],
   "source": [
    "from scipy.spatial.distance import cosine\n",
    "\n",
    "# Calculate cosine distances between different word representations\n",
    "print(\"\\nAnalyzing semantic relationships using cosine distances:\")\n",
    "\n",
    "# 1. Compare plant in different contexts (industrial vs vegetal)\n",
    "plant_distance = cosine(embeddings1[plant1_idx], embeddings3[plant3_idx])\n",
    "print(f\"\\n1. Distance between 'plant' meanings (industrial vs vegetal): {plant_distance:.3f}\")\n",
    "print(\"   - Higher distance indicates different contextual meanings are captured\")\n",
    "\n",
    "# 2. Compare industrial plant with related industrial terms\n",
    "plant_factory_distance = cosine(embeddings1[plant1_idx], embeddings2[factory_idx])\n",
    "print(f\"\\n2. Distance between industrial 'plant' and 'factory': {plant_factory_distance:.3f}\")\n",
    "print(\"   - Lower distance indicates semantic similarity in industrial context\")\n",
    "\n",
    "# 3. Compare industrial plant with production (related concept)\n",
    "plant_production_distance = cosine(embeddings1[plant1_idx], embeddings1[production_idx])\n",
    "print(f\"\\n3. Distance between industrial 'plant' and 'production': {plant_production_distance:.3f}\")\n",
    "print(\"   - Shows relationship strength between facility and its function\")\n",
    "\n",
    "# 4. Compare vegetal plant with industrial term\n",
    "plant_vegetal_production = cosine(embeddings3[plant3_idx], embeddings1[production_idx])\n",
    "print(f\"\\n4. Distance between vegetal 'plant' and 'production': {plant_vegetal_production:.3f}\")\n",
    "print(\"   - Higher distance expected as concepts are less related\")\n",
    "\n",
    "print(\"\\nInterpretation:\")\n",
    "print(\"- These distances demonstrate BERT's ability to generate context-dependent embeddings\")\n",
    "print(\"- The same word 'plant' has different representations based on its usage\")\n",
    "print(\"- Industrial-related terms show closer distances to the industrial meaning of 'plant'\")\n",
    "print(\"- The biological meaning of 'plant' is more distant from industrial terms\")"
   ]
  }
 ],
 "metadata": {
  "kernelspec": {
   "display_name": ".venv",
   "language": "python",
   "name": "python3"
  },
  "language_info": {
   "codemirror_mode": {
    "name": "ipython",
    "version": 3
   },
   "file_extension": ".py",
   "mimetype": "text/x-python",
   "name": "python",
   "nbconvert_exporter": "python",
   "pygments_lexer": "ipython3",
   "version": "3.10.12"
  }
 },
 "nbformat": 4,
 "nbformat_minor": 2
}
